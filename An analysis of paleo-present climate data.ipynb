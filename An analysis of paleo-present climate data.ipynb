{
 "cells": [
  {
   "cell_type": "markdown",
   "metadata": {},
   "source": [
    "# PfDA Project 2: An Analysis of Paleo-Present Climate Data\n",
    "\n",
    "***"
   ]
  },
  {
   "cell_type": "markdown",
   "metadata": {},
   "source": [
    "<div align=\"justify\">\n",
    "\n",
    "### An overview of the *Luthi et al. 2008 Nature Paper* dataset: DC3_gas_a (yr): Investigating the concentration of greenhouse gases in the Earth’s atmosphere over the last 800,000 years\n",
    "\n",
    "The dataset from the Lüthi et al. 2008 Nature paper, often referred to as the EPICA Dome C Ice Core dataset, is a paleoclimatic dataset derived from ice core samples taken from Dome Concordia (Dome C) in Antarctica. The paper, titled *\"High-resolution carbon dioxide concentration record 650,000–800,000 years before present,\"* provides valuable information about past climate conditions, particularly atmospheric CO2 levels, over an extended period of time.  \n",
    "\n",
    "In fact, the dataset covers a time range of approximately 650,000 to 800,000 years before the present (BP) and it provides insights into Earth's climate history during this period. The primary focus of the dataset is to provide high-resolution measurements of atmospheric carbon dioxide (CO2) concentrations over the specified time range. These measurements are based on the examination of ice cores that are cylinders of ice drilled out of an ice sheet or glacier and that are essential for understanding past changes in greenhouse gas levels.  The dataset includes depth profiles, which indicate the depth within the ice core at which each measurement was taken. This allows researchers to establish a chronological order for the measurements and study changes over time. The measuraments were collected by multiple research groups, including Lüthi et al., the University of Bern, and LGGE in Grenoble, as indicated in the column headers and in different Antartica locations:  Dome C, Vostok site and Taylor Dome.  \n",
    "\n",
    "The variable considered are **Depth**, the **EDC3 age scale**, which relates the age of the trapped air to the depth in the ice core from which the air was extracted, the  **Carbon Dioxide** and **Sigma** error, namely the uncertainty or error associated with the measurements, considered in units of *\"ppmv\"*: parts per million by volume.\n",
    "\n",
    "One of the significant contributions of **The Lüthi et al. 2008 paper** is its high-resolution measurements of CO2 concentrations, which provide insights into shorter-term climate variations within the broader timespan. My main source for the present information is [the ANSTO document](https://www.ansto.gov.au/sites/default/files/2019-06/information%20processing%20updated%20to%20new%20format%20%282%29.pdf) released by the Australian Governament.</div>\n",
    "\n",
    "<div align=\"center\">\n",
    "\n",
    "![Antartica Sites](img/Map-of-the-Antarctic-region-including-the-Talos-Dome-TD-Vostok-Taylor-Dome-Taylor.png.jpeg)\n",
    "\n",
    "</div>"
   ]
  },
  {
   "cell_type": "markdown",
   "metadata": {},
   "source": [
    "<div align=\"justify\">\n",
    "\n",
    "To begin my analysis of paleo-present climate data, I am starting by examining the \"New CO2 Data\" section from the **Luthi et al. 2008 Nature Paper**. My aim is to look for patterns or trends in the CO2 levels and temperature anomalies over the specified time range (800kyrs – present) and, in this manner, I am presenting an initial overview of the relationship between CO2 and temperature.\n",
    "\n",
    "Next, I am proceeding to explore the \"Vostok TD-Dome C\" section in search of additional insights or data related to CO2 and temperature anomalies trying to establish any correlations or variations that may emerge.\n",
    "\n",
    "Finally, I am focusing my attention to review the \"Composite CO2\" section in order to reach a first sythesis of the entity of the climate change the data display throughout the specified time frame.\n",
    "\n",
    "This first approach represents the foundation of my investigation into the paleo-present climate data and its correlation between CO2 and temperature anomalies.</div>"
   ]
  },
  {
   "cell_type": "code",
   "execution_count": 14,
   "metadata": {},
   "outputs": [
    {
     "name": "stdout",
     "output_type": "stream",
     "text": [
      "     Depth (m)  EDC3_gas_a (yr) (University of Bern)  \\\n",
      "0      3026.58                                611269   \n",
      "1      3030.97                                616164   \n",
      "2      3036.44                                623109   \n",
      "3      3040.87                                630183   \n",
      "4      3043.07                                635364   \n",
      "..         ...                                   ...   \n",
      "242    3187.87                                794608   \n",
      "243    3188.23                                795202   \n",
      "244    3188.98                                796467   \n",
      "245    3189.33                                797099   \n",
      "246    3190.08                                798512   \n",
      "\n",
      "     CO2 (ppmv) (University of Bern)  sigma (ppmv) (University of Bern)  \\\n",
      "0                              257.8                                2.1   \n",
      "1                              252.6                                0.6   \n",
      "2                              243.3                                2.8   \n",
      "3                              204.4                                0.9   \n",
      "4                              195.0                                1.5   \n",
      "..                               ...                                ...   \n",
      "242                            199.4                                1.7   \n",
      "243                            195.2                                2.0   \n",
      "244                            189.3                                2.1   \n",
      "245                            188.4                                1.4   \n",
      "246                            191.0                                2.2   \n",
      "\n",
      "     Depth (m) (LGGE University of Grenoble)  \\\n",
      "0                                    3061.71   \n",
      "1                                    3063.98   \n",
      "2                                    3085.78   \n",
      "3                                    3086.88   \n",
      "4                                    3087.98   \n",
      "..                                       ...   \n",
      "242                                      NaN   \n",
      "243                                      NaN   \n",
      "244                                      NaN   \n",
      "245                                      NaN   \n",
      "246                                      NaN   \n",
      "\n",
      "     EDC3_gas_a (yr) (LGGE University of Grenoble)  \\\n",
      "0                                         667435.0   \n",
      "1                                         670124.0   \n",
      "2                                         688035.0   \n",
      "3                                         688751.0   \n",
      "4                                         689444.0   \n",
      "..                                             ...   \n",
      "242                                            NaN   \n",
      "243                                            NaN   \n",
      "244                                            NaN   \n",
      "245                                            NaN   \n",
      "246                                            NaN   \n",
      "\n",
      "     CO2 (ppmv) (LGGE University of Grenoble)  \n",
      "0                                       178.5  \n",
      "1                                       189.0  \n",
      "2                                       234.0  \n",
      "3                                       235.4  \n",
      "4                                       241.0  \n",
      "..                                        ...  \n",
      "242                                       NaN  \n",
      "243                                       NaN  \n",
      "244                                       NaN  \n",
      "245                                       NaN  \n",
      "246                                       NaN  \n",
      "\n",
      "[247 rows x 7 columns]\n"
     ]
    }
   ],
   "source": [
    "# Importing necessary libraries: Pandas for data manipulation, Matplotlib and Seaborn for plotting data.\n",
    "import pandas as pd\n",
    "import matplotlib.pyplot as plt \n",
    "import seaborn as sns\n",
    "from sklearn.linear_model import LinearRegression\n",
    "\n",
    "# Reading CO2 data from Luthi et al. 2008 Nature Paper dataset and using 'header' parameter to specify the row that contains column names (0-based index)\n",
    "# The 'skiprows' parameter is used to skip the rows above the data\n",
    "df = pd.read_excel('/Users/andreacignoni/Desktop/Scrivania - Mac mini di Andrea/Repos/PfDA_Project2/data/41586_2008_BFnature06949_MOESM31_ESM-3.xls', header=5, skiprows=[6])\n",
    "\n",
    "\n",
    "df.columns = [\"Depth (m)\", \"EDC3_gas_a (yr) (University of Bern)\", \"CO2 (ppmv) (University of Bern)\", \"sigma (ppmv) (University of Bern)\",\n",
    "              \"Depth (m) (LGGE University of Grenoble)\", \"EDC3_gas_a (yr) (LGGE University of Grenoble)\", \"CO2 (ppmv) (LGGE University of Grenoble)\"]\n",
    "\n",
    "# Display the data\n",
    "print(df)"
   ]
  },
  {
   "cell_type": "markdown",
   "metadata": {},
   "source": [
    "<div align=\"justify\">\n",
    "\n",
    "### Exploring the dataset\n",
    "\n",
    "The dataset has been downloaded in *Excel* format and its first section contains data collected from two different universities: the University of Bern and LGGE (University of Grenoble). The information belong the same area of exploration, **Dome C**, but refer to distinct time periods.\n",
    "\n",
    "+ **University of Bern Data**:\n",
    "Time Period: The University of Bern's data spans from 611,269 to 798,512 years ago.\n",
    "Location: This data pertains to the Dome C research site.\n",
    "- **LGGE (University of Grenoble) Data**:\n",
    "Time Period: LGGE University of Grenoble's data covers a different time range, from 667,435 to 798,893 years ago.\n",
    "Location: Similar to the University of Bern, this data also originates from the Dome C site.\n",
    "\n",
    "</div>"
   ]
  },
  {
   "cell_type": "code",
   "execution_count": 3,
   "metadata": {},
   "outputs": [
    {
     "name": "stdout",
     "output_type": "stream",
     "text": [
      "Depth (m)                                          0\n",
      "EDC3_gas_a (yr) (University of Bern)               0\n",
      "CO2 (ppmv) (University of Bern)                    0\n",
      "sigma (ppmv) (University of Bern)                  0\n",
      "Depth (m) (LGGE University of Grenoble)          200\n",
      "EDC3_gas_a (yr) (LGGE University of Grenoble)    200\n",
      "CO2 (ppmv) (LGGE University of Grenoble)         200\n",
      "dtype: int64\n"
     ]
    }
   ],
   "source": [
    "# Preprocessing data: missing values are not critical for my analysis.\n",
    "print(df.isnull().sum())"
   ]
  },
  {
   "cell_type": "code",
   "execution_count": 6,
   "metadata": {},
   "outputs": [
    {
     "name": "stdout",
     "output_type": "stream",
     "text": [
      "<class 'pandas.core.frame.DataFrame'>\n",
      "Int64Index: 47 entries, 0 to 46\n",
      "Data columns (total 7 columns):\n",
      " #   Column                                         Non-Null Count  Dtype  \n",
      "---  ------                                         --------------  -----  \n",
      " 0   Depth (m)                                      47 non-null     float64\n",
      " 1   EDC3_gas_a (yr) (University of Bern)           47 non-null     int64  \n",
      " 2   CO2 (ppmv) (University of Bern)                47 non-null     float64\n",
      " 3   sigma (ppmv) (University of Bern)              47 non-null     float64\n",
      " 4   Depth (m) (LGGE University of Grenoble)        47 non-null     float64\n",
      " 5   EDC3_gas_a (yr) (LGGE University of Grenoble)  47 non-null     float64\n",
      " 6   CO2 (ppmv) (LGGE University of Grenoble)       47 non-null     float64\n",
      "dtypes: float64(6), int64(1)\n",
      "memory usage: 2.9 KB\n"
     ]
    }
   ],
   "source": [
    "# to get information about data types\n",
    "df.info()"
   ]
  },
  {
   "cell_type": "code",
   "execution_count": 5,
   "metadata": {},
   "outputs": [
    {
     "name": "stdout",
     "output_type": "stream",
     "text": [
      "   Depth (m)  EDC3_gas_a (yr) (University of Bern)  \\\n",
      "0    3026.58                                611269   \n",
      "1    3030.97                                616164   \n",
      "2    3036.44                                623109   \n",
      "3    3040.87                                630183   \n",
      "4    3043.07                                635364   \n",
      "\n",
      "   CO2 (ppmv) (University of Bern)  sigma (ppmv) (University of Bern)  \\\n",
      "0                            257.8                                2.1   \n",
      "1                            252.6                                0.6   \n",
      "2                            243.3                                2.8   \n",
      "3                            204.4                                0.9   \n",
      "4                            195.0                                1.5   \n",
      "\n",
      "   Depth (m) (LGGE University of Grenoble)  \\\n",
      "0                                  3061.71   \n",
      "1                                  3063.98   \n",
      "2                                  3085.78   \n",
      "3                                  3086.88   \n",
      "4                                  3087.98   \n",
      "\n",
      "   EDC3_gas_a (yr) (LGGE University of Grenoble)  \\\n",
      "0                                       667435.0   \n",
      "1                                       670124.0   \n",
      "2                                       688035.0   \n",
      "3                                       688751.0   \n",
      "4                                       689444.0   \n",
      "\n",
      "   CO2 (ppmv) (LGGE University of Grenoble)  \n",
      "0                                     178.5  \n",
      "1                                     189.0  \n",
      "2                                     234.0  \n",
      "3                                     235.4  \n",
      "4                                     241.0  \n"
     ]
    }
   ],
   "source": [
    "# First five rows of the dataset dispayed\n",
    "print(df.head())"
   ]
  },
  {
   "cell_type": "code",
   "execution_count": 18,
   "metadata": {},
   "outputs": [
    {
     "data": {
      "text/html": [
       "<div>\n",
       "<style scoped>\n",
       "    .dataframe tbody tr th:only-of-type {\n",
       "        vertical-align: middle;\n",
       "    }\n",
       "\n",
       "    .dataframe tbody tr th {\n",
       "        vertical-align: top;\n",
       "    }\n",
       "\n",
       "    .dataframe thead th {\n",
       "        text-align: right;\n",
       "    }\n",
       "</style>\n",
       "<table border=\"1\" class=\"dataframe\">\n",
       "  <thead>\n",
       "    <tr style=\"text-align: right;\">\n",
       "      <th></th>\n",
       "      <th>Depth (m)</th>\n",
       "      <th>EDC3_gas_a (yr)</th>\n",
       "      <th>CO2 (ppmv)</th>\n",
       "      <th>sigma (ppmv)</th>\n",
       "      <th>Depth (m)_LGGE</th>\n",
       "      <th>EDC3_gas_a (yr)_LGGE</th>\n",
       "      <th>CO2 (ppmv)_LGGE</th>\n",
       "    </tr>\n",
       "  </thead>\n",
       "  <tbody>\n",
       "    <tr>\n",
       "      <th>count</th>\n",
       "      <td>247.000000</td>\n",
       "      <td>247.000000</td>\n",
       "      <td>247.000000</td>\n",
       "      <td>247.000000</td>\n",
       "      <td>47.000000</td>\n",
       "      <td>47.000000</td>\n",
       "      <td>47.00000</td>\n",
       "    </tr>\n",
       "    <tr>\n",
       "      <th>mean</th>\n",
       "      <td>3123.501134</td>\n",
       "      <td>723999.655870</td>\n",
       "      <td>216.088664</td>\n",
       "      <td>1.248178</td>\n",
       "      <td>3148.893617</td>\n",
       "      <td>750698.170213</td>\n",
       "      <td>222.33617</td>\n",
       "    </tr>\n",
       "    <tr>\n",
       "      <th>std</th>\n",
       "      <td>40.589369</td>\n",
       "      <td>41319.636469</td>\n",
       "      <td>20.259783</td>\n",
       "      <td>0.614713</td>\n",
       "      <td>35.427754</td>\n",
       "      <td>36597.113508</td>\n",
       "      <td>20.93293</td>\n",
       "    </tr>\n",
       "    <tr>\n",
       "      <th>min</th>\n",
       "      <td>3026.580000</td>\n",
       "      <td>611269.000000</td>\n",
       "      <td>171.600000</td>\n",
       "      <td>0.200000</td>\n",
       "      <td>3061.710000</td>\n",
       "      <td>667435.000000</td>\n",
       "      <td>178.50000</td>\n",
       "    </tr>\n",
       "    <tr>\n",
       "      <th>25%</th>\n",
       "      <td>3089.115000</td>\n",
       "      <td>690175.500000</td>\n",
       "      <td>203.950000</td>\n",
       "      <td>0.800000</td>\n",
       "      <td>3130.880000</td>\n",
       "      <td>729879.000000</td>\n",
       "      <td>208.15000</td>\n",
       "    </tr>\n",
       "    <tr>\n",
       "      <th>50%</th>\n",
       "      <td>3125.530000</td>\n",
       "      <td>723464.000000</td>\n",
       "      <td>218.400000</td>\n",
       "      <td>1.100000</td>\n",
       "      <td>3160.580000</td>\n",
       "      <td>760338.000000</td>\n",
       "      <td>224.20000</td>\n",
       "    </tr>\n",
       "    <tr>\n",
       "      <th>75%</th>\n",
       "      <td>3159.535000</td>\n",
       "      <td>759094.500000</td>\n",
       "      <td>231.850000</td>\n",
       "      <td>1.600000</td>\n",
       "      <td>3174.330000</td>\n",
       "      <td>778397.500000</td>\n",
       "      <td>238.95000</td>\n",
       "    </tr>\n",
       "    <tr>\n",
       "      <th>max</th>\n",
       "      <td>3190.080000</td>\n",
       "      <td>798512.000000</td>\n",
       "      <td>260.300000</td>\n",
       "      <td>3.700000</td>\n",
       "      <td>3190.280000</td>\n",
       "      <td>798893.000000</td>\n",
       "      <td>256.60000</td>\n",
       "    </tr>\n",
       "  </tbody>\n",
       "</table>\n",
       "</div>"
      ],
      "text/plain": [
       "         Depth (m)  EDC3_gas_a (yr)  CO2 (ppmv)  sigma (ppmv)  Depth (m)_LGGE  \\\n",
       "count   247.000000       247.000000  247.000000    247.000000       47.000000   \n",
       "mean   3123.501134    723999.655870  216.088664      1.248178     3148.893617   \n",
       "std      40.589369     41319.636469   20.259783      0.614713       35.427754   \n",
       "min    3026.580000    611269.000000  171.600000      0.200000     3061.710000   \n",
       "25%    3089.115000    690175.500000  203.950000      0.800000     3130.880000   \n",
       "50%    3125.530000    723464.000000  218.400000      1.100000     3160.580000   \n",
       "75%    3159.535000    759094.500000  231.850000      1.600000     3174.330000   \n",
       "max    3190.080000    798512.000000  260.300000      3.700000     3190.280000   \n",
       "\n",
       "       EDC3_gas_a (yr)_LGGE  CO2 (ppmv)_LGGE  \n",
       "count             47.000000         47.00000  \n",
       "mean          750698.170213        222.33617  \n",
       "std            36597.113508         20.93293  \n",
       "min           667435.000000        178.50000  \n",
       "25%           729879.000000        208.15000  \n",
       "50%           760338.000000        224.20000  \n",
       "75%           778397.500000        238.95000  \n",
       "max           798893.000000        256.60000  "
      ]
     },
     "execution_count": 18,
     "metadata": {},
     "output_type": "execute_result"
    }
   ],
   "source": [
    "# Display statistics about data\n",
    "df.describe()"
   ]
  },
  {
   "cell_type": "markdown",
   "metadata": {},
   "source": [
    "<div align=\"justify\">\n",
    "\n",
    "### Examinig relationship between CO2 levels and ECD3 age scale\n",
    "\n",
    "The **Pearson Correlation Coefficient** can allow to measure the linear relationship between two continuous variables, such as CO2 levels and EDC3_gas_a (yr). A positive correlation indicates a positive linear relationship, while a negative correlation indicates a negative linear relationship. This technique is used to to assess relationships between variables. It helps researchers and analysts understand whether and to what extent two variables are related in a linear fashion. Even if two variables are highly correlated, it does not necessarily mean that changes in one variable cause changes in the other; correlation only quantifies the strength and direction of the linear relationship. My studies on *Pearson Correlation Coefficient* is based on [Statistics How To](https://www.statisticshowto.com/probability-and-statistics/correlation-coefficient-formula/).</div>"
   ]
  },
  {
   "cell_type": "code",
   "execution_count": 12,
   "metadata": {},
   "outputs": [
    {
     "name": "stdout",
     "output_type": "stream",
     "text": [
      "Pearson Correlation for University of Bern Dome C data: -0.14867679227276345\n"
     ]
    }
   ],
   "source": [
    "# Pearson Correlation Coefficient applied for the University of Bern data\n",
    "correlation = df['CO2 (ppmv) (University of Bern)'].corr(df['EDC3_gas_a (yr) (University of Bern)'])\n",
    "print(f\"Pearson Correlation for University of Bern Dome C data: {correlation}\")"
   ]
  },
  {
   "cell_type": "code",
   "execution_count": 11,
   "metadata": {},
   "outputs": [
    {
     "name": "stdout",
     "output_type": "stream",
     "text": [
      "Pearson Correlation for LGGE University of Grenoble Dome C data: 0.308752341075156\n"
     ]
    }
   ],
   "source": [
    "# Pearson Correlation Coefficient applied for the LGGE University of Grenoble data\n",
    "correlation = df ['CO2 (ppmv) (LGGE University of Grenoble)'].corr(df['EDC3_gas_a (yr) (LGGE University of Grenoble)'])\n",
    "print(f\"Pearson Correlation for LGGE University of Grenoble Dome C data: {correlation}\")"
   ]
  },
  {
   "cell_type": "markdown",
   "metadata": {},
   "source": [
    "<div align=\"justify\">\n",
    "\n",
    "The *University of Bern's data* shows a weak negative correlation, suggesting a very mild tendency for one variable to decrease as the other increases. *LGGE University of Grenoble's data* exhibits a moderate positive correlation, indicating a more noticeable tendency for both variables to increase together, but it is not a very strong correlation. However,  it is crucial to emphasize that correlation measures only the strength and direction of the linear relationship between these variables. It does not address causation or non-linear relationships that may exist within the dataset. To truly understand the patterns and potential causal factors at play, further research and analysis are necessary.  Correlation, though informative, is just one piece of the puzzle in data analysis. </div>"
   ]
  },
  {
   "cell_type": "markdown",
   "metadata": {},
   "source": [
    "<div align=\"justify\">\n",
    "\n",
    "### A first visual glimpse of the CO2 trend shown from the two Dome C data collections\n",
    "\n",
    "The purpose of the graph is to visually compare and analyze the CO2 concentration patterns as they evolve over time, as represented by the EDC3 age scale. By plotting both datasets on the same graph, it is possible to observe how CO2 levels change over the specified age range for each dataset. In fact, during specific time intervals, on the EDC3 age scale, the CO2 levels measured by both University of Bern and LGGE University of Grenoble equipment show consistency or convergence. The use of line plots allow to easily identify the trend during specific, well-defined segments of the EDC3 age scale and the confirmation of similar trends adds strength to the dataset's credibility.</div>"
   ]
  },
  {
   "cell_type": "code",
   "execution_count": 16,
   "metadata": {},
   "outputs": [
    {
     "data": {
      "image/png": "[encoded data removed]",
      "text/plain": [
       "<Figure size 640x480 with 1 Axes>"
      ]
     },
     "metadata": {},
     "output_type": "display_data"
    }
   ],
   "source": [
    "# Extract the relevant columns for University of Bern data\n",
    "co2_bern = df['CO2 (ppmv) (University of Bern)']\n",
    "age_bern = df['EDC3_gas_a (yr) (University of Bern)']\n",
    "\n",
    "# Extract the relevant columns for LGGE University of Grenoble data\n",
    "co2_grenoble = df['CO2 (ppmv) (LGGE University of Grenoble)']\n",
    "age_grenoble = df['EDC3_gas_a (yr) (LGGE University of Grenoble)']\n",
    "\n",
    "# Create a line plot for University of Bern data\n",
    "plt.plot(age_bern, co2_bern, label='University of Bern', linestyle='-', marker='o', markersize=4)\n",
    "\n",
    "# Create a line plot for LGGE University of Grenoble data\n",
    "plt.plot(age_grenoble, co2_grenoble, label='LGGE University of Grenoble', linestyle='-', marker='o', markersize=4)\n",
    "\n",
    "# Set labels and title\n",
    "plt.xlabel('EDC3 Age Scale (years)')\n",
    "plt.ylabel('CO2 Levels (ppmv)')\n",
    "plt.title('CO2 Levels Over EDC3 Age Scale')\n",
    "\n",
    "# Add legend\n",
    "plt.legend()\n",
    "\n",
    "# Display the plot\n",
    "plt.grid(True)\n",
    "plt.tight_layout()\n",
    "plt.show()"
   ]
  }
 ],
 "metadata": {
  "kernelspec": {
   "display_name": "base",
   "language": "python",
   "name": "python3"
  },
  "language_info": {
   "codemirror_mode": {
    "name": "ipython",
    "version": 3
   },
   "file_extension": ".py",
   "mimetype": "text/x-python",
   "name": "python",
   "nbconvert_exporter": "python",
   "pygments_lexer": "ipython3",
   "version": "3.10.9"
  },
  "orig_nbformat": 4
 },
 "nbformat": 4,
 "nbformat_minor": 2
}
